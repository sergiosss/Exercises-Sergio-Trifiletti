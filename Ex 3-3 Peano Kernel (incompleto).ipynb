{
 "metadata": {
  "name": "",
  "signature": "sha256:58fc160567392f125b8f2e22862a4bcb5e0e0e2353a5a5aee65ea358155d2159"
 },
 "nbformat": 3,
 "nbformat_minor": 0,
 "worksheets": [
  {
   "cells": [
    {
     "cell_type": "code",
     "collapsed": false,
     "input": [
      "%pylab inline\n",
      "import numpy as np"
     ],
     "language": "python",
     "metadata": {},
     "outputs": [
      {
       "output_type": "stream",
       "stream": "stdout",
       "text": [
        "Populating the interactive namespace from numpy and matplotlib\n"
       ]
      }
     ],
     "prompt_number": 1
    },
    {
     "cell_type": "markdown",
     "metadata": {},
     "source": [
      "1) Construct the Peano Argument function:\n",
      "$$P_k(x,t)=(x-t)_+^k$$"
     ]
    },
    {
     "cell_type": "code",
     "collapsed": false,
     "input": [
      "class Peano: #A Peano object must be initialized with the order k. Then it can be\n",
      "    # called using x and t as arguments.\n",
      "    def __init__(self, k):\n",
      "        self.k = k\n",
      "    \n",
      "    def __call__(self, x, t):\n",
      "        if x>t:\n",
      "            return (x-t)**self.k\n",
      "        else:\n",
      "            return 0"
     ],
     "language": "python",
     "metadata": {},
     "outputs": [],
     "prompt_number": 3
    },
    {
     "cell_type": "markdown",
     "metadata": {},
     "source": [
      "2) Construct a function that computes the analytical integral of the Peano argument in the interval (a,b):\n",
      "$$I_k(t)=\\int_a^b(x-t)_+^kdx$$"
     ]
    },
    {
     "cell_type": "code",
     "collapsed": false,
     "input": [
      "# Let's just enrich the definition of Peano class\n",
      "class Peano: #A Peano object must be initialized with the order k and, optional, the\n",
      "    # interval of integration [a,b]. Then it can be called using x and t as arguments\n",
      "    # to return the Peano Argument function. It also can be used with the method\n",
      "    # 'integral' with arguments t and, if not specified at the initialization, the\n",
      "    # interval of integration [a,b], in order to compute the analytical integral.\n",
      "    def __init__(self, k, a=None, b=None):\n",
      "        self.k = k\n",
      "        self.a = a\n",
      "        self.b = b\n",
      "    \n",
      "    def __call__(self, x, t):\n",
      "        if x>t:\n",
      "            return (x-t)**self.k\n",
      "        else:\n",
      "            return 0\n",
      "        \n",
      "    def integral(self, t, a=None, b=None):\n",
      "        if a is None:\n",
      "            a = self.a\n",
      "        if b is None:\n",
      "            b = self.b\n",
      "        if a is None or b is None:\n",
      "            print \"ERROR: Interval of integration not specified\"\n",
      "            return None\n",
      "        if t>b:\n",
      "            return 0.0\n",
      "        elif t>a:\n",
      "            p = np.poly1d([1, -t])**self.k\n",
      "            return p.integ()(b)-p.integ()(t)\n",
      "        else:\n",
      "            p = np.poly1d([1, -t])**self.k\n",
      "            return p.integ()(b)-p.integ()(a)"
     ],
     "language": "python",
     "metadata": {},
     "outputs": [],
     "prompt_number": 5
    },
    {
     "cell_type": "markdown",
     "metadata": {},
     "source": [
      "3) Construct the Peano Kernel of order k for a given interpolatory quarature formula on the interval (a,b). The Peano Kernel is defined as:\n",
      "$$K(t)=E_x(P_k(x,t))=I_k(t)-\\sum_{i=0}^nP_k(q_i,t)w_i$$"
     ]
    },
    {
     "cell_type": "code",
     "collapsed": false,
     "input": [
      "class PKernel:\n",
      "    def __init__(self, k, a, b, q, w=None):\n",
      "        self.k = k\n",
      "        self.a = a\n",
      "        self.b = b\n",
      "        self.q = q\n",
      "        if w is None:\n",
      "            self.w = TROVARE\n",
      "        else:\n",
      "            self.w = w\n",
      "            \n",
      "    def __call__(self, t):\n",
      "        return TROVARE"
     ],
     "language": "python",
     "metadata": {},
     "outputs": []
    }
   ],
   "metadata": {}
  }
 ]
}
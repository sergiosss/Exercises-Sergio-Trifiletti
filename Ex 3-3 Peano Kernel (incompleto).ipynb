{
 "metadata": {
  "name": "",
  "signature": "sha256:4285088df5a9009abbd7502c6f3947f3ece775c7c33d5fd2fd824ef1b6c8a30e"
 },
 "nbformat": 3,
 "nbformat_minor": 0,
 "worksheets": [
  {
   "cells": [
    {
     "cell_type": "code",
     "collapsed": false,
     "input": [
      "%pylab inline\n",
      "import numpy as np"
     ],
     "language": "python",
     "metadata": {},
     "outputs": [
      {
       "output_type": "stream",
       "stream": "stdout",
       "text": [
        "Populating the interactive namespace from numpy and matplotlib\n"
       ]
      }
     ],
     "prompt_number": 1
    },
    {
     "cell_type": "markdown",
     "metadata": {},
     "source": [
      "1) Construct the Peano Argument function:\n",
      "$$P_k(x,t)=(x-t)_+^k$$"
     ]
    },
    {
     "cell_type": "code",
     "collapsed": false,
     "input": [
      "class Peano: #A Peano object must be initialized with the order k. Then it can be\n",
      "    # called using x and t as arguments.\n",
      "    def __init__(self, k):\n",
      "        self.k = k\n",
      "    \n",
      "    def __call__(self, x, t):\n",
      "        if x>t:\n",
      "            return (x-t)**self.k\n",
      "        else:\n",
      "            return 0"
     ],
     "language": "python",
     "metadata": {},
     "outputs": [],
     "prompt_number": 3
    },
    {
     "cell_type": "markdown",
     "metadata": {},
     "source": [
      "2) Construct a function that computes the analytical integral of the Peano argument in the interval (a,b):\n",
      "$$I_k(t)=\\int_a^b(x-t)_+^kdx$$"
     ]
    },
    {
     "cell_type": "code",
     "collapsed": false,
     "input": [
      "# Let's just enrich the definition of Peano class\n",
      "class Peano: #A Peano object must be initialized with the order k and, optional, the\n",
      "    # interval of integration [a,b]. Then it can be called using x and t as arguments\n",
      "    # to return the Peano Argument function. It also can be used with the method\n",
      "    # 'integral' with arguments t and, if not specified at the initialization, the\n",
      "    # interval of integration [a,b], in order to compute the analytical integral.\n",
      "    def __init__(self, k, a=None, b=None):\n",
      "        self.k = k\n",
      "        self.a = a\n",
      "        self.b = b\n",
      "    \n",
      "    def __call__(self, x, t):\n",
      "        if x>t:\n",
      "            return (x-t)**self.k\n",
      "        else:\n",
      "            return 0.0\n",
      "        \n",
      "    def integral(self, t, a=None, b=None):\n",
      "        if a is None:\n",
      "            a = self.a\n",
      "        if b is None:\n",
      "            b = self.b\n",
      "        if a is None or b is None:\n",
      "            print \"ERROR: Interval of integration not specified\"\n",
      "            return None\n",
      "        if t>b:\n",
      "            return 0.0\n",
      "        elif t>a:\n",
      "            p = np.poly1d([1, -t])**self.k\n",
      "            return p.integ()(b)-p.integ()(t)\n",
      "        else:\n",
      "            p = np.poly1d([1, -t])**self.k\n",
      "            return p.integ()(b)-p.integ()(a)"
     ],
     "language": "python",
     "metadata": {},
     "outputs": [],
     "prompt_number": 22
    },
    {
     "cell_type": "markdown",
     "metadata": {},
     "source": [
      "3) Construct the Peano Kernel of order k for a given interpolatory quarature formula on the interval (a,b). The Peano Kernel is defined as:\n",
      "$$K(t)=E_x(P_k(x,t))=I_k(t)-\\sum_{i=0}^nP_k(q_i,t)w_i$$"
     ]
    },
    {
     "cell_type": "code",
     "collapsed": false,
     "input": [
      "from scipy.interpolate import lagrange\n",
      "\n",
      "class lagrange_basis: #A lagrange_basis object must be initialized with the set q\n",
      "    # of interpolation points. Then it can be called using an index i in [0,n] to\n",
      "    # return the i-th Lagrange polynomial as a polynomial object. It can also be\n",
      "    # used with the method 'integral' with arguments i (index as before) and the\n",
      "    # extremes of integration a and b.\n",
      "    def __init__(self, q):\n",
      "        self.q = q\n",
      "        \n",
      "    def __call__(self, i):\n",
      "        myf = self.q*0\n",
      "        myf[i] = 1\n",
      "        return lagrange(self.q, myf)\n",
      "    \n",
      "    def integral(self, i, a, b):\n",
      "        return self(i).integ()(b)-self(i).integ()(a)\n",
      "\n",
      "class PKernel: #A PKernel object must be initialized with the order k, the interval\n",
      "    # of integration [a,b], and the set q of quadrature points. The set w of weights\n",
      "    # is an optional argument, and will be computed if not given. The PKernel object\n",
      "    # can then be called with t as argument to return the Peano Kernel.\n",
      "    def compute_weigths(self):\n",
      "        li = lagrange_basis(self.q)\n",
      "        return np.array([li.integral(i, self.a, self.b) for i in range(len(self.q))])\n",
      "    \n",
      "    def __init__(self, k, a, b, q, w=None):\n",
      "        self.k = k\n",
      "        self.a = a\n",
      "        self.b = b\n",
      "        self.q = q\n",
      "        if w is None:\n",
      "            self.w = self.compute_weigths()\n",
      "        else:\n",
      "            self.w = w\n",
      "            \n",
      "    def __call__(self, t):\n",
      "        p = Peano(self.k, self.a, self.b)\n",
      "        return p.integral(t)-np.sum([self.w[i]*p(self.q[i],t) for i in range(len(self.q))])"
     ],
     "language": "python",
     "metadata": {},
     "outputs": [],
     "prompt_number": 31
    },
    {
     "cell_type": "markdown",
     "metadata": {},
     "source": [
      "4) Create the following plots:\n",
      "\n",
      "    The Peano Kernel of order 1 for the midpoint rule\n",
      "    The Peano Kernel of order 1 for the Trapez rule\n",
      "    The Peano Kernel of order N and N+1 for Newton Cotes formulas of order N (with N+1 nodes)\n",
      "    The Peano Kernel of order 2N+1 for Gauss quadrature Rules\n",
      "    The Peano Kernel or order one for the Trapez rule, iterated on two intervals (also known as Simpson\u2019s rule)\n",
      "\n",
      "What differences do you see between b) and e)?"
     ]
    },
    {
     "cell_type": "code",
     "collapsed": false,
     "input": [
      "a = -1.0\n",
      "b = 1.0\n",
      "ts = np.linspace(a,b,1025)"
     ],
     "language": "python",
     "metadata": {},
     "outputs": [],
     "prompt_number": 32
    },
    {
     "cell_type": "code",
     "collapsed": false,
     "input": [
      "mid = (a+b)/2.0\n",
      "K = PKernel(1, a, b, np.array([mid]))\n",
      "plot(ts,np.array([K(t) for t in ts]))\n",
      "title('$k=1$, midpoint rule')\n",
      "xlabel('t')\n",
      "ylabel('K(t)')"
     ],
     "language": "python",
     "metadata": {},
     "outputs": [
      {
       "metadata": {},
       "output_type": "display_data",
       "png": "[encoded data removed]",
       "text": [
        "<matplotlib.figure.Figure at 0x7fd5fcdfa390>"
       ]
      }
     ],
     "prompt_number": 33
    },
    {
     "cell_type": "code",
     "collapsed": false,
     "input": [
      "K = PKernel(1, a, b, np.array([a, b]))\n",
      "plot(ts,np.array([K(t) for t in ts]))\n",
      "title('$k=1$, trapezoidal rule')\n",
      "xlabel('t')\n",
      "ylabel('K(t)')"
     ],
     "language": "python",
     "metadata": {},
     "outputs": [
      {
       "metadata": {},
       "output_type": "pyout",
       "prompt_number": 34,
       "text": [
        "<matplotlib.text.Text at 0x7fd5fcdc6f10>"
       ]
      },
      {
       "metadata": {},
       "output_type": "display_data",
       "png": "[encoded data removed]",
       "text": [
        "<matplotlib.figure.Figure at 0x7fd5fd127550>"
       ]
      }
     ],
     "prompt_number": 34
    },
    {
     "cell_type": "code",
     "collapsed": false,
     "input": [],
     "language": "python",
     "metadata": {},
     "outputs": []
    }
   ],
   "metadata": {}
  }
 ]
}
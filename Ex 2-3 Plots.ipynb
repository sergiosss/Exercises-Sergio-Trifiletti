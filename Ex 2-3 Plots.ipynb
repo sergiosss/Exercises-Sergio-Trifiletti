{
 "metadata": {
  "name": "",
  "signature": "sha256:cfdb7779a69e998e6483126863172d2339d926fe4a0ad55185d850ea6013789c"
 },
 "nbformat": 3,
 "nbformat_minor": 0,
 "worksheets": [
  {
   "cells": [
    {
     "cell_type": "code",
     "collapsed": false,
     "input": [
      "%pylab inline\n",
      "import numpy as np\n",
      "import numpy.polynomial.chebyshev as cheb\n",
      "from scipy.interpolate import *"
     ],
     "language": "python",
     "metadata": {},
     "outputs": [
      {
       "output_type": "stream",
       "stream": "stdout",
       "text": [
        "Populating the interactive namespace from numpy and matplotlib\n"
       ]
      }
     ],
     "prompt_number": 2
    },
    {
     "cell_type": "markdown",
     "metadata": {},
     "source": [
      "1) Take a two dimensional list of arrays qs of N equispaced points and N Chebishev points between 0 and 1, with N = range(10,51), and create, for each q, a list of functions, containing the following methods:\n",
      "\n",
      "    interp1d(q, f(q))\n",
      "    BarycentricInterpolator(q, f(q))\n",
      "    KroghInterpolator(q, f(q))\n",
      "    PiecewisePolynomial(q, f(q))\n",
      "    PchipInterpolator(q, f(q))\n",
      "    Akima1DInterpolator(q, f(q))\n",
      "    UnivariateSpline(q, f(q))\n",
      "    InterpolatedUnivariateSpline(q, f(q))\n",
      "    lagrange(q, f(q))\n"
     ]
    },
    {
     "cell_type": "markdown",
     "metadata": {},
     "source": [
      "2) Plot each of them together with the interpolating points and values for the three functions\n",
      "\n",
      "    f(x) = sin(2*pi*x)\n",
      "    Runge function\n",
      "    f(x) = abs(x-.5)"
     ]
    },
    {
     "cell_type": "code",
     "collapsed": false,
     "input": [
      "def adj(y): #Returns a list of 1-element lists, taking the elements from\n",
      "    # the array y. It is necessary for the function PiecewisePolynomial.\n",
      "    a = []\n",
      "    for i in range(len(y)):\n",
      "        l = []\n",
      "        l.append(y[i])\n",
      "        a.append(l)\n",
      "    return a"
     ],
     "language": "python",
     "metadata": {},
     "outputs": [],
     "prompt_number": 3
    },
    {
     "cell_type": "code",
     "collapsed": false,
     "input": [
      "fun = []\n",
      "fun.append(lambda x: np.sin(2.0*np.pi*x))\n",
      "fun.append(lambda x: 1.0/(1.0 + (5.0-10.0*x)**2))\n",
      "fun.append(lambda x: abs(x-0.5))\n",
      "f_name = ['$f(x)=sin(2\\pi x)$', '$f(x)=1/(1+(5-10x)^2)$', '$f(x)=|x-0.5|$']\n",
      "nodes = ['equispaced', 'Chebyshev']\n",
      "meths = ['interp1d', 'BarycentricInterpolator', 'KroghInterpolator', 'PiecewisePolynomial', 'PchipInterpolator',\n",
      "    'Akima1DInterpolator', 'UnivariateSpline', 'InterpolatedUnivariateSpline', 'lagrange']"
     ],
     "language": "python",
     "metadata": {},
     "outputs": [],
     "prompt_number": 4
    },
    {
     "cell_type": "markdown",
     "metadata": {},
     "source": [
      "This code plots, for each of the functions:\n",
      "\n",
      "    $f(x)=\\sin(2\\pi x)$\n",
      "    $f(x)=\\frac{1}{1+(5-10x)^2}$\n",
      "    $f(x)=|x-\\frac{1}{2}|$\n",
      "\n",
      "and for each of the methods:\n",
      "\n",
      "    interp1d(q, f(q))\n",
      "    BarycentricInterpolator(q, f(q))\n",
      "    KroghInterpolator(q, f(q))\n",
      "    PiecewisePolynomial(q, f(q))\n",
      "    PchipInterpolator(q, f(q))\n",
      "    Akima1DInterpolator(q, f(q))\n",
      "    UnivariateSpline(q, f(q))\n",
      "    InterpolatedUnivariateSpline(q, f(q))\n",
      "    lagrange(q, f(q))\n",
      "\n",
      "the interpolation and the actual function together with the interpolation points (both equispaced and Chebyshev) for an increasing number of points (from 10 to 50)."
     ]
    },
    {
     "cell_type": "markdown",
     "metadata": {},
     "source": [
      "WARNING: the code creates 738 images, each one containing 3 subplots. It may take some time to execute"
     ]
    },
    {
     "cell_type": "code",
     "collapsed": false,
     "input": [
      "for N in range(10,51):\n",
      "    qs = []\n",
      "    qs.append(np.linspace(0,1,N))\n",
      "    qs.append(cheb.chebgauss(N)[0][::-1]*.5+.5)\n",
      "    for j in range(len(qs)):\n",
      "        q = qs[j]\n",
      "        x = np.linspace(q[0],q[-1],1025)\n",
      "        app = []\n",
      "        app.append(lambda g: interp1d(q, g(q)))\n",
      "        app.append(lambda g: BarycentricInterpolator(q, g(q)))\n",
      "        app.append(lambda g: KroghInterpolator(q, g(q)))\n",
      "        app.append(lambda g: PiecewisePolynomial(list(q), adj(g(q))))\n",
      "        app.append(lambda g: PchipInterpolator(q, g(q)))\n",
      "        app.append(lambda g: Akima1DInterpolator(q, g(q)))\n",
      "        app.append(lambda g: UnivariateSpline(q, g(q)))\n",
      "        app.append(lambda g: InterpolatedUnivariateSpline(q, g(q)))\n",
      "        app.append(lambda g: lagrange(q, g(q)))\n",
      "        for i in range(len(app)):\n",
      "            figure()\n",
      "            for fn in range(len(fun)):\n",
      "                f = fun[fn]\n",
      "                interp = app[i](f)\n",
      "                subplot(1,3,fn+1)\n",
      "                plot(x,interp(x))\n",
      "                plot(x,f(x))\n",
      "                plot(q,f(q),'ro')\n",
      "                title(f_name[fn])\n",
      "            suptitle(meths[i] + ', with ' + str(N) + ' ' + nodes[j] + ' nodes')\n",
      "            savefig('image_' + str(i) + '_' + str(j) + '_' + str(N) + '.png')\n",
      "            close()"
     ],
     "language": "python",
     "metadata": {},
     "outputs": [],
     "prompt_number": 5
    },
    {
     "cell_type": "code",
     "collapsed": false,
     "input": [],
     "language": "python",
     "metadata": {},
     "outputs": []
    }
   ],
   "metadata": {}
  }
 ]
}
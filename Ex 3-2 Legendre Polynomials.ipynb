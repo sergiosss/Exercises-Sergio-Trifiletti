{
 "metadata": {
  "name": "",
  "signature": "sha256:c6a029ea6e7956977a2ba7afe00152d48fa1f952bd04727352e3dcc4bc1ba598"
 },
 "nbformat": 3,
 "nbformat_minor": 0,
 "worksheets": [
  {
   "cells": [
    {
     "cell_type": "code",
     "collapsed": false,
     "input": [
      "%pylab inline\n",
      "import numpy as np"
     ],
     "language": "python",
     "metadata": {},
     "outputs": [
      {
       "output_type": "stream",
       "stream": "stdout",
       "text": [
        "Populating the interactive namespace from numpy and matplotlib\n"
       ]
      }
     ],
     "prompt_number": 1
    },
    {
     "cell_type": "markdown",
     "metadata": {},
     "source": [
      "1) Construct a function that returns the Legendre polynomial of order N in the interval (-1,1), defined as the polynomial p which is ortogonal with respect to the L2 scalar product to all monomials of order n < N. The returned polynomial should be such that p(1) = 1. Use the two terms recursive definition (a.k.a. the Bonnet\u2019s recursion formula):\n",
      "$$p_0=1, \\, p_1=x, \\, (n+1)p_{n+1}=(2n+1)xp_n(x)-np_{n-1}(x)$$\n",
      "and make sure you return a numpy polynomial."
     ]
    },
    {
     "cell_type": "code",
     "collapsed": false,
     "input": [
      "def Legendre(n):\n",
      "    if n==0:\n",
      "        return np.poly1d(1)\n",
      "    elif n==1:\n",
      "        return np.poly1d([1,0])\n",
      "    elif n<0:\n",
      "        return np.poly1d(0)\n",
      "    else:\n",
      "        return (np.polymul([2*n-1, 0], Legendre(n-1))-(n-1)*Legendre(n-2))/n"
     ],
     "language": "python",
     "metadata": {},
     "outputs": [],
     "prompt_number": 2
    },
    {
     "cell_type": "code",
     "collapsed": false,
     "input": [
      "p = Legendre(3)\n",
      "p"
     ],
     "language": "python",
     "metadata": {},
     "outputs": [
      {
       "metadata": {},
       "output_type": "pyout",
       "prompt_number": 3,
       "text": [
        "poly1d([ 2.5,  0. , -1.5,  0. ])"
       ]
      }
     ],
     "prompt_number": 3
    },
    {
     "cell_type": "code",
     "collapsed": false,
     "input": [
      "p.deriv()"
     ],
     "language": "python",
     "metadata": {},
     "outputs": [
      {
       "metadata": {},
       "output_type": "pyout",
       "prompt_number": 4,
       "text": [
        "poly1d([ 7.5,  0. , -1.5])"
       ]
      }
     ],
     "prompt_number": 4
    },
    {
     "cell_type": "code",
     "collapsed": false,
     "input": [
      "p.integ()"
     ],
     "language": "python",
     "metadata": {},
     "outputs": [
      {
       "metadata": {},
       "output_type": "pyout",
       "prompt_number": 5,
       "text": [
        "poly1d([ 0.625,  0.   , -0.75 ,  0.   ,  0.   ])"
       ]
      }
     ],
     "prompt_number": 5
    },
    {
     "cell_type": "markdown",
     "metadata": {},
     "source": [
      "2) Use the numpy.polynomial.polynomial.polyroots to compute the roots of this polynomial."
     ]
    },
    {
     "cell_type": "code",
     "collapsed": false,
     "input": [
      "np.roots(p)"
     ],
     "language": "python",
     "metadata": {},
     "outputs": [
      {
       "metadata": {},
       "output_type": "pyout",
       "prompt_number": 6,
       "text": [
        "array([-0.77459667,  0.77459667,  0.        ])"
       ]
      }
     ],
     "prompt_number": 6
    },
    {
     "cell_type": "markdown",
     "metadata": {},
     "source": [
      "The polyroots function of the Polynomial module takes as argument a polynomial $p$ in the form of an array $c$ such that:\n",
      "$$p(x) = \\sum_0^n c[i]x^i$$\n",
      "Since we have defined the Legendre polynomials in the form of vectors such that:\n",
      "$$p(x) = \\sum_0^n c[i]x^{n-i}$$\n",
      "it is more convenient to use the numpy.roots function instead of numpy.polynomial.polynomial.polyroots"
     ]
    },
    {
     "cell_type": "markdown",
     "metadata": {},
     "source": [
      "3) Feed the roots and the polynomial to the function you constructed in point two above, to construct Gauss quadrature rules on (-1,1)."
     ]
    },
    {
     "cell_type": "code",
     "collapsed": false,
     "input": [
      "from scipy.interpolate import lagrange\n",
      "\n",
      "class lagrange_basis: #A lagrange_basis object must be initialized with the set q\n",
      "    # of interpolation points. Then it can be called using an index i in [0,n] to\n",
      "    # return the i-th Lagrange polynomial as a polynomial object. It can also be\n",
      "    # used with the method 'integral' with arguments i (index as before) and the\n",
      "    # extremes of integration a and b.\n",
      "    def __init__(self, q):\n",
      "        self.q = q\n",
      "        \n",
      "    def __call__(self, i):\n",
      "        myf = self.q*0\n",
      "        myf[i] = 1\n",
      "        return lagrange(self.q, myf)\n",
      "    \n",
      "    def integral(self, i, a, b):\n",
      "        return self(i).integ()(b)-self(i).integ()(a)\n",
      "\n",
      "class MyIntegral: #A MyIntegral object must be initialized with the set q of\n",
      "    # interplation points, and the extremes of integration as optional arguments\n",
      "    # (if not given they are computed as the first and last interpolation points.\n",
      "    # Note that this is necessary for quadrature formulas in which the interpolation\n",
      "    # points do not include the extremes of integration, e.g. the mid-point formula).\n",
      "    # Then it can be called using a function f as argument to compute the quadrature\n",
      "    # formula given by the integration of the Lagrange polynomial of f on the nodes q.\n",
      "    def compute_weigths(self):\n",
      "        li = lagrange_basis(self.q)\n",
      "        return np.array([li.integral(i, self.a, self.b) for i in range(len(self.q))])\n",
      "    \n",
      "    def __init__(self, q, a = None , b = None):\n",
      "        self.q = q\n",
      "        if a is None:\n",
      "            self.a = self.q[0]\n",
      "        else:\n",
      "            self.a = a\n",
      "        if b is None:\n",
      "            self.b = self.q[-1]\n",
      "        else:\n",
      "            self.b = b\n",
      "        self.w = self.compute_weigths()\n",
      "        \n",
      "    def __call__(self, f):\n",
      "        return np.sum(self.w*f(self.q))"
     ],
     "language": "python",
     "metadata": {},
     "outputs": []
    },
    {
     "cell_type": "code",
     "collapsed": false,
     "input": [
      "def Gauss(N, f, a = -1.0, b = 1.0): #Returns the Gauss quadrature of order N (hence on\n",
      "    # N+1 points) of the function f on in the interval [a,b] ([-1,1] if not specified).\n",
      "    q = np.roots(Legendre(N+1))\n",
      "    return MyIntegral(q,a,b)(f)"
     ],
     "language": "python",
     "metadata": {},
     "outputs": [],
     "prompt_number": 15
    },
    {
     "cell_type": "markdown",
     "metadata": {},
     "source": [
      "4) Compare the results you get using the function numpy.polynomial.legendre.leggauss"
     ]
    },
    {
     "cell_type": "code",
     "collapsed": false,
     "input": [
      "def poly_Gauss(N, f): #Returns the Gauss quadrature of order N (hence on N+1 points)\n",
      "    # of the function f on in the interval [-1,1] using the Legendre module of numpy.\n",
      "    q = np.polynomial.legendre.leggauss(N+1)[0]\n",
      "    w = np.polynomial.legendre.leggauss(N+1)[1]\n",
      "    return np.sum(w*f(q))"
     ],
     "language": "python",
     "metadata": {},
     "outputs": [],
     "prompt_number": 16
    },
    {
     "cell_type": "code",
     "collapsed": false,
     "input": [
      "g = lambda x: np.exp(-x)\n",
      "print 'The exact result is', np.exp(1)-np.exp(-1)\n",
      "print Gauss(20, g)\n",
      "print poly_Gauss(20, g)"
     ],
     "language": "python",
     "metadata": {},
     "outputs": [
      {
       "output_type": "stream",
       "stream": "stdout",
       "text": [
        "The exact result is 2.35040238729\n",
        "2.35040239126"
       ]
      },
      {
       "output_type": "stream",
       "stream": "stdout",
       "text": [
        "\n",
        "2.35040238729\n"
       ]
      }
     ],
     "prompt_number": 18
    },
    {
     "cell_type": "code",
     "collapsed": false,
     "input": [
      "import cProfile\n",
      "cProfile.run('Gauss(20, g)')"
     ],
     "language": "python",
     "metadata": {},
     "outputs": [
      {
       "output_type": "stream",
       "stream": "stdout",
       "text": [
        "         4421648 function calls (4315485 primitive calls) in 8.819 seconds\n",
        "\n",
        "   Ordered by: standard name\n",
        "\n",
        "   ncalls  tottime  percall  cumtime  percall filename:lineno(function)\n",
        "        1    0.000    0.000    8.819    8.819 <ipython-input-15-6796554a37ec>:1(Gauss)\n",
        "       21    0.000    0.000    0.000    0.000 <ipython-input-18-f95e3f1e826d>:1(<lambda>)\n",
        "  35421/1    0.254    0.000    5.481    5.481 <ipython-input-2-da959bcd9049>:1(Legendre)\n",
        "       42    0.001    0.000    3.328    0.079 <ipython-input-7-97123430d8e5>:11(__call__)\n",
        "       21    0.001    0.000    3.336    0.159 <ipython-input-7-97123430d8e5>:16(integral)\n",
        "        1    0.000    0.000    3.336    3.336 <ipython-input-7-97123430d8e5>:26(compute_weigths)\n",
        "        1    0.000    0.000    3.336    3.336 <ipython-input-7-97123430d8e5>:30(__init__)\n",
        "        1    0.000    0.000    0.000    0.000 <ipython-input-7-97123430d8e5>:42(__call__)\n",
        "        1    0.000    0.000    0.000    0.000 <ipython-input-7-97123430d8e5>:8(__init__)\n",
        "        1    0.000    0.000    8.819    8.819 <string>:1(<module>)\n",
        "        2    0.000    0.000    0.000    0.000 _methods.py:35(_all)\n",
        "        1    0.000    0.000    0.000    0.000 fromnumeric.py:1281(ravel)\n",
        "        1    0.000    0.000    0.000    0.000 fromnumeric.py:1370(nonzero)\n",
        "        1    0.000    0.000    0.000    0.000 fromnumeric.py:1842(all)\n",
        "   196309    1.283    0.000    1.395    0.000 function_base.py:1211(trim_zeros)\n",
        "       42    0.156    0.004    3.328    0.079 interpolate.py:44(lagrange)\n",
        "        1    0.000    0.000    0.000    0.000 linalg.py:101(get_linalg_error_extobj)\n",
        "        1    0.000    0.000    0.000    0.000 linalg.py:106(_makearray)\n",
        "        3    0.000    0.000    0.000    0.000 linalg.py:111(isComplexType)\n",
        "        2    0.000    0.000    0.000    0.000 linalg.py:124(_realType)\n",
        "        1    0.000    0.000    0.000    0.000 linalg.py:139(_commonType)\n",
        "        1    0.000    0.000    0.000    0.000 linalg.py:198(_assertRankAtLeast2)\n",
        "        1    0.000    0.000    0.000    0.000 linalg.py:209(_assertNdSquareness)\n",
        "        1    0.000    0.000    0.000    0.000 linalg.py:214(_assertFinite)\n",
        "        1    0.000    0.000    0.000    0.000 linalg.py:219(_assertNoEmpty2d)\n",
        "        1    0.000    0.000    0.000    0.000 linalg.py:820(eigvals)\n",
        "        1    0.000    0.000    0.000    0.000 numeric.py:136(ones)\n",
        "    70700    0.097    0.000    0.148    0.000 numeric.py:1810(isscalar)\n",
        "    70872    0.070    0.000    0.141    0.000 numeric.py:392(asarray)\n",
        "   233581    0.261    0.000    0.984    0.000 numeric.py:462(asanyarray)\n",
        "       42    0.000    0.000    0.000    0.000 numeric.py:78(zeros_like)\n",
        "    35350    0.053    0.000    0.091    0.000 numeric.py:814(_mode_from_name)\n",
        "    35350    0.258    0.000    1.959    0.000 numeric.py:873(convolve)\n",
        "   250251    1.232    0.000    4.514    0.000 polynomial.py:1035(__init__)\n",
        "    70701    0.080    0.000    0.220    0.000 polynomial.py:1056(__array__)\n",
        "       42    0.000    0.000    0.004    0.000 polynomial.py:1128(__call__)\n",
        "    17640    0.087    0.000    2.295    0.000 polynomial.py:1137(__mul__)\n",
        "    17710    0.228    0.000    0.625    0.000 polynomial.py:1144(__rmul__)\n",
        "      882    0.004    0.000    0.047    0.000 polynomial.py:1151(__add__)\n",
        "    17710    0.068    0.000    1.177    0.000 polynomial.py:1167(__sub__)\n",
        "    35350    0.480    0.000    1.206    0.000 polynomial.py:1175(__div__)\n",
        "   141402    0.571    0.000    0.571    0.000 polynomial.py:1202(__getattr__)\n",
        "       42    0.000    0.000    0.004    0.000 polynomial.py:1238(integ)\n",
        "        1    0.000    0.000    0.001    0.001 polynomial.py:151(roots)\n",
        "    84/42    0.001    0.000    0.003    0.000 polynomial.py:235(polyint)\n",
        "       42    0.003    0.000    0.004    0.000 polynomial.py:607(polyval)\n",
        "      882    0.011    0.000    0.025    0.000 polynomial.py:676(polyadd)\n",
        "    17710    0.217    0.000    0.617    0.000 polynomial.py:736(polysub)\n",
        "    35350    0.236    0.000    3.724    0.000 polynomial.py:783(polymul)\n",
        "        1    0.000    0.000    0.000    0.000 shape_base.py:230(hstack)\n",
        "   233580    0.651    0.000    1.821    0.000 shape_base.py:8(atleast_1d)\n",
        "        1    0.000    0.000    0.000    0.000 twodim_base.py:221(diag)\n",
        "        1    0.000    0.000    0.000    0.000 {abs}\n",
        "        1    0.000    0.000    0.000    0.000 {getattr}\n",
        "   464311    0.292    0.000    0.292    0.000 {isinstance}\n",
        "        5    0.000    0.000    0.000    0.000 {issubclass}\n",
        "  1431282    0.274    0.000    0.274    0.000 {len}\n",
        "        1    0.000    0.000    0.000    0.000 {max}\n",
        "        2    0.000    0.000    0.000    0.000 {method 'all' of 'numpy.ndarray' objects}\n",
        "   233580    0.071    0.000    0.071    0.000 {method 'append' of 'list' objects}\n",
        "        1    0.000    0.000    0.000    0.000 {method 'astype' of 'numpy.ndarray' objects}\n",
        "        1    0.000    0.000    0.000    0.000 {method 'disable' of '_lsprof.Profiler' objects}\n",
        "        2    0.000    0.000    0.000    0.000 {method 'get' of 'dict' objects}\n",
        "    53942    0.020    0.000    0.020    0.000 {method 'keys' of 'dict' objects}\n",
        "    35350    0.012    0.000    0.012    0.000 {method 'lower' of 'str' objects}\n",
        "        1    0.000    0.000    0.000    0.000 {method 'nonzero' of 'numpy.ndarray' objects}\n",
        "        1    0.000    0.000    0.000    0.000 {method 'ravel' of 'numpy.ndarray' objects}\n",
        "        2    0.000    0.000    0.000    0.000 {method 'reduce' of 'numpy.ufunc' objects}\n",
        "     7731    0.019    0.000    0.019    0.000 {method 'reshape' of 'numpy.ndarray' objects}\n",
        "   196309    0.068    0.000    0.068    0.000 {method 'upper' of 'str' objects}\n",
        "        1    0.000    0.000    0.000    0.000 {min}\n",
        "       42    0.000    0.000    0.000    0.000 {numpy.core.multiarray.arange}\n",
        "410056/339355    1.550    0.000    2.271    0.000 {numpy.core.multiarray.array}\n",
        "    18215    0.056    0.000    0.056    0.000 {numpy.core.multiarray.concatenate}\n",
        "       43    0.000    0.000    0.000    0.000 {numpy.core.multiarray.copyto}\n",
        "    35350    0.112    0.000    0.112    0.000 {numpy.core.multiarray.correlate}\n",
        "       42    0.000    0.000    0.000    0.000 {numpy.core.multiarray.empty_like}\n",
        "        1    0.000    0.000    0.000    0.000 {numpy.core.multiarray.empty}\n",
        "    18174    0.042    0.000    0.042    0.000 {numpy.core.multiarray.zeros}\n",
        "       44    0.000    0.000    0.000    0.000 {range}\n",
        "\n",
        "\n"
       ]
      }
     ],
     "prompt_number": 19
    },
    {
     "cell_type": "code",
     "collapsed": false,
     "input": [
      "cProfile.run('poly_Gauss(20, g)')"
     ],
     "language": "python",
     "metadata": {},
     "outputs": [
      {
       "output_type": "stream",
       "stream": "stdout",
       "text": [
        "         236 function calls in 0.006 seconds\n",
        "\n",
        "   Ordered by: standard name\n",
        "\n",
        "   ncalls  tottime  percall  cumtime  percall filename:lineno(function)\n",
        "        1    0.000    0.000    0.006    0.006 <ipython-input-16-db2a32f87e3c>:1(poly_Gauss)\n",
        "        1    0.000    0.000    0.000    0.000 <ipython-input-18-f95e3f1e826d>:1(<lambda>)\n",
        "        1    0.000    0.000    0.006    0.006 <string>:1(<module>)\n",
        "        4    0.000    0.000    0.000    0.000 _methods.py:15(_amax)\n",
        "        3    0.000    0.000    0.000    0.000 _methods.py:23(_sum)\n",
        "        4    0.000    0.000    0.000    0.000 _methods.py:35(_all)\n",
        "        1    0.000    0.000    0.000    0.000 fromnumeric.py:1621(sum)\n",
        "        2    0.000    0.000    0.000    0.000 fromnumeric.py:1842(all)\n",
        "        2    0.000    0.000    0.001    0.000 legendre.py:1568(legcompanion)\n",
        "        2    0.000    0.000    0.006    0.003 legendre.py:1668(leggauss)\n",
        "        2    0.000    0.000    0.000    0.000 legendre.py:666(legder)\n",
        "        6    0.004    0.001    0.004    0.001 legendre.py:896(legval)\n",
        "        2    0.000    0.000    0.000    0.000 linalg.py:101(get_linalg_error_extobj)\n",
        "        2    0.000    0.000    0.000    0.000 linalg.py:106(_makearray)\n",
        "        6    0.000    0.000    0.000    0.000 linalg.py:111(isComplexType)\n",
        "        4    0.000    0.000    0.000    0.000 linalg.py:124(_realType)\n",
        "        2    0.000    0.000    0.000    0.000 linalg.py:139(_commonType)\n",
        "        2    0.000    0.000    0.000    0.000 linalg.py:198(_assertRankAtLeast2)\n",
        "        2    0.000    0.000    0.000    0.000 linalg.py:209(_assertNdSquareness)\n",
        "        2    0.000    0.000    0.000    0.000 linalg.py:214(_assertFinite)\n",
        "        2    0.000    0.000    0.000    0.000 linalg.py:219(_assertNoEmpty2d)\n",
        "        2    0.001    0.000    0.001    0.000 linalg.py:820(eigvals)\n",
        "        4    0.000    0.000    0.000    0.000 numeric.py:1299(rollaxis)\n",
        "        4    0.000    0.000    0.000    0.000 numeric.py:392(asarray)\n",
        "        2    0.000    0.000    0.000    0.000 numeric.py:462(asanyarray)\n",
        "        2    0.000    0.000    0.000    0.000 polyutils.py:105(as_series)\n",
        "        2    0.000    0.000    0.000    0.000 polyutils.py:75(trimseq)\n",
        "        2    0.000    0.000    0.000    0.000 type_check.py:237(iscomplexobj)\n",
        "        2    0.000    0.000    0.000    0.000 type_check.py:553(common_type)\n",
        "        4    0.000    0.000    0.000    0.000 {any}\n",
        "        2    0.000    0.000    0.000    0.000 {getattr}\n",
        "       13    0.000    0.000    0.000    0.000 {isinstance}\n",
        "       12    0.000    0.000    0.000    0.000 {issubclass}\n",
        "       38    0.000    0.000    0.000    0.000 {len}\n",
        "        4    0.000    0.000    0.000    0.000 {max}\n",
        "        4    0.000    0.000    0.000    0.000 {method 'all' of 'numpy.ndarray' objects}\n",
        "        8    0.000    0.000    0.000    0.000 {method 'astype' of 'numpy.ndarray' objects}\n",
        "        1    0.000    0.000    0.000    0.000 {method 'disable' of '_lsprof.Profiler' objects}\n",
        "        4    0.000    0.000    0.000    0.000 {method 'get' of 'dict' objects}\n",
        "        4    0.000    0.000    0.000    0.000 {method 'max' of 'numpy.ndarray' objects}\n",
        "       11    0.000    0.000    0.000    0.000 {method 'reduce' of 'numpy.ufunc' objects}\n",
        "       10    0.000    0.000    0.000    0.000 {method 'reshape' of 'numpy.ndarray' objects}\n",
        "        2    0.000    0.000    0.000    0.000 {method 'sort' of 'numpy.ndarray' objects}\n",
        "        2    0.000    0.000    0.000    0.000 {method 'sum' of 'numpy.ndarray' objects}\n",
        "        4    0.000    0.000    0.000    0.000 {min}\n",
        "        4    0.000    0.000    0.000    0.000 {numpy.core.multiarray.arange}\n",
        "       20    0.000    0.000    0.000    0.000 {numpy.core.multiarray.array}\n",
        "        2    0.000    0.000    0.000    0.000 {numpy.core.multiarray.empty}\n",
        "        2    0.000    0.000    0.000    0.000 {numpy.core.multiarray.zeros}\n",
        "       12    0.000    0.000    0.000    0.000 {range}\n",
        "\n",
        "\n"
       ]
      }
     ],
     "prompt_number": 20
    },
    {
     "cell_type": "markdown",
     "metadata": {},
     "source": [
      "It appears that using the function numpy.polynomial.legendre.leggauss is slightly more accurate and far more efficient."
     ]
    },
    {
     "cell_type": "markdown",
     "metadata": {},
     "source": [
      "5) Compare Gauss integration with Chebishev integration for different number of quadrature points.\n",
      "\n",
      "    Are the weights always positive?\n",
      "    Which one of the two integration rules do you expect to behave better? Which one do you expect to converge faster? Which one is more stable?"
     ]
    },
    {
     "cell_type": "code",
     "collapsed": false,
     "input": [
      "def Cheb(N, f): #Returns the quadrature of order N, on N+1 Chebyshev points in the\n",
      "    # interval [-1,1], of the function f.\n",
      "    q = np.polynomial.chebyshev.chebgauss(N+1)[0][::-1]\n",
      "    return MyIntegral(q,-1.0,1.0)(f)"
     ],
     "language": "python",
     "metadata": {},
     "outputs": [],
     "prompt_number": 21
    },
    {
     "cell_type": "code",
     "collapsed": false,
     "input": [
      "g = lambda x: np.exp(-x)\n",
      "Ns = range(5,26)\n",
      "res = np.exp(1)-np.exp(-1)\n",
      "plot(Ns, [abs(res - Cheb(N, g)) for N in Ns], label='Chebyshev')\n",
      "plot(Ns, [abs(res - poly_Gauss(N, g)) for N in Ns], label='Gauss')\n",
      "legend()\n",
      "title('$f(x)=e^{-x}$')\n",
      "xlabel('N')\n",
      "ylabel('error')"
     ],
     "language": "python",
     "metadata": {},
     "outputs": [
      {
       "metadata": {},
       "output_type": "pyout",
       "prompt_number": 22,
       "text": [
        "<matplotlib.text.Text at 0x7f7520090290>"
       ]
      },
      {
       "metadata": {},
       "output_type": "display_data",
       "png": "[encoded data removed]",
       "text": [
        "<matplotlib.figure.Figure at 0x7f75227a3510>"
       ]
      }
     ],
     "prompt_number": 22
    },
    {
     "cell_type": "code",
     "collapsed": false,
     "input": [
      "Runge = lambda x: 1.0/(1.0+25.0*x**2)\n",
      "Ns = range(5,26)\n",
      "res = 2.0*np.arctan(5.0)/5.0\n",
      "plot(Ns, [abs(res - Cheb(N, Runge)) for N in Ns], label='Chebyshev')\n",
      "plot(Ns, [abs(res - poly_Gauss(N, Runge)) for N in Ns], label='Gauss')\n",
      "legend()\n",
      "title('$f(x)=1/(1+25x^2)$')\n",
      "xlabel('N')\n",
      "ylabel('error')"
     ],
     "language": "python",
     "metadata": {},
     "outputs": [
      {
       "metadata": {},
       "output_type": "pyout",
       "prompt_number": 23,
       "text": [
        "<matplotlib.text.Text at 0x7f7519efda10>"
       ]
      },
      {
       "metadata": {},
       "output_type": "display_data",
       "png": "[encoded data removed]",
       "text": [
        "<matplotlib.figure.Figure at 0x7f752007cd50>"
       ]
      }
     ],
     "prompt_number": 23
    },
    {
     "cell_type": "markdown",
     "metadata": {},
     "source": [
      "5.a) Are the weights always positive?"
     ]
    },
    {
     "cell_type": "code",
     "collapsed": false,
     "input": [
      "for N in Ns:\n",
      "    w = np.polynomial.legendre.leggauss(N+1)[1]\n",
      "    are_pos = w > np.zeros(len(w)) #Create an array of boolean\n",
      "    print 'For N =', N, 'are all the weights positive?', np.all(are_pos)"
     ],
     "language": "python",
     "metadata": {},
     "outputs": [
      {
       "output_type": "stream",
       "stream": "stdout",
       "text": [
        "For N = 5 are all the weights positive? True\n",
        "For N = 6 are all the weights positive? True\n",
        "For N = 7 are all the weights positive? True\n",
        "For N = 8 are all the weights positive? True\n",
        "For N = 9 are all the weights positive? True\n",
        "For N = 10 are all the weights positive? True\n",
        "For N = 11 are all the weights positive? True\n",
        "For N = 12 are all the weights positive? True\n",
        "For N = 13 are all the weights positive? True\n",
        "For N = 14 are all the weights positive? True\n",
        "For N = 15 are all the weights positive? True\n",
        "For N = 16 are all the weights positive? True\n",
        "For N = 17 are all the weights positive? True\n",
        "For N = 18 are all the weights positive? True\n",
        "For N = 19 are all the weights positive? True\n",
        "For N = 20 are all the weights positive? True\n",
        "For N = 21 are all the weights positive? True\n",
        "For N = 22 are all the weights positive? True\n",
        "For N = 23 are all the weights positive? True\n",
        "For N = 24 are all the weights positive? True\n",
        "For N = 25 are all the weights positive? True\n"
       ]
      }
     ],
     "prompt_number": 47
    },
    {
     "cell_type": "markdown",
     "metadata": {},
     "source": [
      "Overall, the Gauss integration behaves better. It converges faster than the Chebyshev integration, and the latter is less stable, having some oscillations (specially for the function $e^{-x}$) for large values of $N$ (notice that the error is still \"small\" though, in the order of $10^{-6}$)."
     ]
    },
    {
     "cell_type": "code",
     "collapsed": false,
     "input": [],
     "language": "python",
     "metadata": {},
     "outputs": []
    }
   ],
   "metadata": {}
  }
 ]
}